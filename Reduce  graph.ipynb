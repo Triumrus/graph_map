{
 "cells": [
  {
   "cell_type": "code",
   "execution_count": null,
   "metadata": {},
   "outputs": [],
   "source": [
    "#Напишите программу, которая реализует reducer для задачи WordCount в Hadoop Streaming.\n",
    "#Sample Input:\n",
    "#\n",
    "#cogitare\t1\n",
    "#est\t1\n",
    "#est\t1\n",
    "#est\t1\n",
    "#militate\t1\n",
    "#potentia\t1\n",
    "#Scientia\t1\n",
    "#Vivere\t1\n",
    "#Vivere\t1\n",
    "#Sample Output:\n",
    "#\n",
    "#cogitare\t1\n",
    "#est\t3\n",
    "#militate\t1\n",
    "#potentia\t1\n",
    "#Scientia\t1\n",
    "#Vivere\t2"
   ]
  },
  {
   "cell_type": "code",
   "execution_count": null,
   "metadata": {},
   "outputs": [],
   "source": [
    "# put your R code here\n",
    "#!/usr/bin/env Rscript\n",
    "library('stringi')\n",
    "stdin <- file('stdin', open='r')\n",
    "\n",
    "    x <- readLines(con=stdin, n=1024L)\n",
    "   x <- unlist(x)\n",
    "    x<-as.data.frame(x)\n",
    "\n",
    "x<-gsub(\"\\t1\",\"\",x$x)\n",
    "x<-as.data.frame(table(x))\n",
    "cat(stri_paste(x$x, x$Freq, sep='\\t'), sep='\\n')"
   ]
  }
 ],
 "metadata": {
  "kernelspec": {
   "display_name": "Python 3",
   "language": "python",
   "name": "python3"
  },
  "language_info": {
   "codemirror_mode": {
    "name": "ipython",
    "version": 3
   },
   "file_extension": ".py",
   "mimetype": "text/x-python",
   "name": "python",
   "nbconvert_exporter": "python",
   "pygments_lexer": "ipython3",
   "version": "3.7.3"
  }
 },
 "nbformat": 4,
 "nbformat_minor": 2
}
