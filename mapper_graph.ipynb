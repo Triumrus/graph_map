{
 "cells": [
  {
   "cell_type": "code",
   "execution_count": null,
   "metadata": {},
   "outputs": [],
   "source": [
    "#Напишите программу, которая реализует mapper для задачи WordCount в Hadoop Streaming.\n",
    "#\n",
    "#Sample Input:\n",
    "#\n",
    "#Vivere est cogitare\n",
    "#Vivere militate est\n",
    "#Scientia potentia est\n",
    "#Sample Output:\n",
    "#\n",
    "#Vivere\t1\n",
    "#est\t1\n",
    "#cogitare\t1\n",
    "#Vivere\t1\n",
    "#militate\t1\n",
    "#est\t1\n",
    "#Scientia\t1\n",
    "#potentia\t1\n",
    "#est\t1"
   ]
  },
  {
   "cell_type": "code",
   "execution_count": null,
   "metadata": {},
   "outputs": [],
   "source": [
    "#!/usr/bin/env Rscript\n",
    "library('stringi')\n",
    "stdin <- file('stdin', open='r')\n",
    "\n",
    "while(length(x <- readLines(con=stdin, n=1024L))>0) {\n",
    "   x <- unlist(stri_extract_all_words(x))\n",
    "    slova<-as.data.frame(x)\n",
    "    names(slova)[1]<-\"name\"\n",
    "    \n",
    "      slova$counts<-as.integer(length(slova)) \n",
    "   # slova$count<-length(slova)\n",
    "    # print(slova)\n",
    "    #slova<-slova\n",
    "   #write.table(format(slova, justify=\"left\"),\n",
    "    #                   row.names=F, col.names=F, quote=F,sep = '\\t')\n",
    "    \n",
    "    \n",
    "   \n",
    "  # xt <- table(x)\n",
    "   words <- slova$name\n",
    "   #counts <- as.integer(xt)\n",
    "  #print(words)\n",
    "    cat(stri_paste(words, slova$counts, sep='\\t'), sep='\\n')\n",
    "\n",
    "    \n",
    " #print(xt)\n",
    "}"
   ]
  }
 ],
 "metadata": {
  "kernelspec": {
   "display_name": "Python 3",
   "language": "python",
   "name": "python3"
  },
  "language_info": {
   "codemirror_mode": {
    "name": "ipython",
    "version": 3
   },
   "file_extension": ".py",
   "mimetype": "text/x-python",
   "name": "python",
   "nbconvert_exporter": "python",
   "pygments_lexer": "ipython3",
   "version": "3.7.3"
  }
 },
 "nbformat": 4,
 "nbformat_minor": 2
}
