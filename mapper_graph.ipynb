{
 "cells": [
  {
   "cell_type": "code",
   "execution_count": null,
   "metadata": {},
   "outputs": [],
   "source": [
    "#Напишите программу, которая реализует mapper для задачи WordCount в Hadoop Streaming.\n",
    "#\n",
    "#Sample Input:\n",
    "#\n",
    "#Vivere est cogitare\n",
    "#Vivere militate est\n",
    "#Scientia potentia est\n",
    "#Sample Output:\n",
    "#\n",
    "#Vivere\t1\n",
    "#est\t1\n",
    "#cogitare\t1\n",
    "#Vivere\t1\n",
    "#militate\t1\n",
    "est\t1\n",
    "Scientia\t1\n",
    "potentia\t1\n",
    "est\t1"
   ]
  }
 ],
 "metadata": {
  "kernelspec": {
   "display_name": "Python 3",
   "language": "python",
   "name": "python3"
  },
  "language_info": {
   "codemirror_mode": {
    "name": "ipython",
    "version": 3
   },
   "file_extension": ".py",
   "mimetype": "text/x-python",
   "name": "python",
   "nbconvert_exporter": "python",
   "pygments_lexer": "ipython3",
   "version": "3.7.3"
  }
 },
 "nbformat": 4,
 "nbformat_minor": 2
}
