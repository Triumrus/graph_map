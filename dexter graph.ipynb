{
 "cells": [
  {
   "cell_type": "code",
   "execution_count": null,
   "metadata": {},
   "outputs": [],
   "source": [
    "#алгоритм Дейкстр\n",
    "#4 8\n",
    "#1 2 6\n",
    "#1 3 2\n",
    "#1 4 10\n",
    "#2 4 4\n",
    "#3 1 5\n",
    "#3 2 3\n",
    "#3 4 8\n",
    "#4 2 1\n",
    "#1 4"
   ]
  },
  {
   "cell_type": "code",
   "execution_count": null,
   "metadata": {},
   "outputs": [],
   "source": [
    "# put your python code here\n",
    "# put your python code here\n",
    "import sys\n",
    "import numpy as np\n",
    "n = None\n",
    "s = None \n",
    "e = None\n",
    "for line in sys.stdin:\n",
    "    z = line.strip().split(' ')\n",
    "    if len(z) == 2 and n == None:\n",
    "        n = int(z[0])\n",
    "        w = [[999999 for x in range(n)] for x in range(n)]    \n",
    "    elif len(z) == 2 and n != None:\n",
    "        s = int(z[0])\n",
    "        e = int(z[1])\n",
    "    else:\n",
    "        ii = int(z[0])-1\n",
    "        jj = int(z[1])-1\n",
    "        aij = int(z[2])\n",
    "        w[ii][jj] = aij\n",
    "# print(e)\n",
    "\n",
    "valid = [True]*n        \n",
    "weight = [1000000]*n\n",
    "weight[s-1] = 0\n",
    "    \n",
    "for i in range(n):\n",
    "    min_weight = 1000001\n",
    "    ID_min_weight = -1\n",
    "    for j in range(n):\n",
    "        if valid[j] and weight[j] < min_weight:\n",
    "            min_weight = weight[j]\n",
    "            ID_min_weight = j\n",
    "    for q in range(n):\n",
    "        if weight[ID_min_weight] + w[ID_min_weight][q] < weight[q]:\n",
    "            weight[q] = weight[ID_min_weight] + w[ID_min_weight][q]\n",
    "    valid[ID_min_weight] = False\n",
    "ans = -1 if weight[e-1] == 999999 else weight[e-1]\n",
    "print(ans) \n",
    "\n"
   ]
  }
 ],
 "metadata": {
  "kernelspec": {
   "display_name": "Python 3",
   "language": "python",
   "name": "python3"
  },
  "language_info": {
   "codemirror_mode": {
    "name": "ipython",
    "version": 3
   },
   "file_extension": ".py",
   "mimetype": "text/x-python",
   "name": "python",
   "nbconvert_exporter": "python",
   "pygments_lexer": "ipython3",
   "version": "3.7.3"
  }
 },
 "nbformat": 4,
 "nbformat_minor": 2
}
