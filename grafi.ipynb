{
 "cells": [
  {
   "cell_type": "code",
   "execution_count": 24,
   "metadata": {},
   "outputs": [],
   "source": [
    "# Инструкция\n",
    "# Входные данные: В первой строке указаны два числа: число вершин и число ребер графа.\n",
    "# Далее идут строки с описанием ребер. Их количество равно числу ребер.\n",
    "# В каждой строке указаны 3 числа: исходящая вершина, входящая вершина, вес ребра.\n",
    "# В последней строке указаны 2 номера вершины: начальная и конечная вершина, кратчайший путь между которыми нужно найти.\n",
    "#\n",
    "# Пример\n",
    "# 4 4\n",
    "# 1 2 1\n",
    "# 1 3 2\n",
    "# 2 4 3\n",
    "# 3 4 4\n",
    "# 1 4\n",
    "#\n",
    "#\n",
    "#\n",
    "\n"
   ]
  },
  {
   "cell_type": "code",
   "execution_count": null,
   "metadata": {},
   "outputs": [],
   "source": [
    "import sys\n",
    "from math import inf\n",
    "\n",
    "def dijkstra(V, start, W):\n",
    "    d = [inf] * (len(V) + 1)\n",
    "    d[start] = 0\n",
    "    Q = set(V)\n",
    "\n",
    "    while len(Q) > 0:\n",
    "        u = min(Q, key=lambda v: d[v])\n",
    "        Q.discard(u)\n",
    "        for v in Q:\n",
    "            if (u, v) in W:\n",
    "                d_u_v = d[u] + W[(u, v)]\n",
    "                if d[v] > d_u_v:\n",
    "                    d[v] = d_u_v\n",
    "    return d\n",
    "\n",
    "\n",
    "def main():\n",
    "    v, w = map(int, input().split())\n",
    "    W = {}\n",
    "    V = set(range(1, v + 1))\n",
    "    for k in range(w):\n",
    "        i, j, weight = map(int, input().split())\n",
    "        W[(i, j)] = weight\n",
    "    start, end = map(int, input().split())\n",
    "\n",
    "    dists = dijkstra(V, start, W)\n",
    "    print(-1 if dists[end] == inf else dists[end])\n",
    "\n",
    "\n",
    "if __name__ == \"__main__\":\n",
    "    main()"
   ]
  }
 ],
 "metadata": {
  "kernelspec": {
   "display_name": "Python 3",
   "language": "python",
   "name": "python3"
  },
  "language_info": {
   "codemirror_mode": {
    "name": "ipython",
    "version": 3
   },
   "file_extension": ".py",
   "mimetype": "text/x-python",
   "name": "python",
   "nbconvert_exporter": "python",
   "pygments_lexer": "ipython3",
   "version": "3.7.3"
  }
 },
 "nbformat": 4,
 "nbformat_minor": 2
}
